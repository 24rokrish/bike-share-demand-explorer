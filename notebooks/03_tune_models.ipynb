{
 "cells": [
  {
   "cell_type": "code",
   "execution_count": null,
   "id": "4aa06721",
   "metadata": {},
   "outputs": [],
   "source": [
    "from pathlib import Path\n",
    "import pandas as pd, numpy as np\n",
    "from sklearn.model_selection import RandomizedSearchCV, train_test_split\n",
    "from sklearn.ensemble import RandomForestRegressor, GradientBoostingRegressor\n",
    "from sklearn.metrics import mean_squared_log_error\n",
    "import features   # your helper module\n",
    "\n",
    "ROOT   = Path.cwd().parent\n",
    "train  = pd.read_csv(ROOT / \"train.csv\")\n",
    "train  = features.add_time_features(train)\n",
    "\n",
    "X = train[[\"hour\",\"weekday\",\"month\",\"temp\",\"humidity\",\"windspeed\"]]\n",
    "y = train[\"count\"]\n",
    "X_train, X_val, y_train, y_val = train_test_split(\n",
    "    X, y, test_size=0.2, random_state=42\n",
    ")\n"
   ]
  },
  {
   "cell_type": "code",
   "execution_count": null,
   "id": "7ba656be",
   "metadata": {},
   "outputs": [],
   "source": [
    "param_grid = {\n",
    "    \"n_estimators\": [200, 400, 600, 800],\n",
    "    \"max_depth\": [None, 10, 30, 50],\n",
    "    \"min_samples_split\": [2, 5, 10],\n",
    "    \"min_samples_leaf\":  [1, 2, 4],\n",
    "}\n",
    "\n",
    "rs = RandomizedSearchCV(\n",
    "    RandomForestRegressor(random_state=42, n_jobs=-1),\n",
    "    param_grid,\n",
    "    n_iter=20,\n",
    "    scoring=\"neg_mean_squared_log_error\",\n",
    "    cv=3,\n",
    "    random_state=42,\n",
    "    n_jobs=-1,\n",
    ")\n",
    "rs.fit(X_train, y_train)\n",
    "best_rf = rs.best_estimator_\n",
    "print(\"Best params:\", rs.best_params_)\n"
   ]
  },
  {
   "cell_type": "code",
   "execution_count": null,
   "id": "4716cd75",
   "metadata": {},
   "outputs": [],
   "source": [
    "preds  = np.clip(best_rf.predict(X_val), 0, None)\n",
    "rmsle  = mean_squared_log_error(y_val, preds, squared=False)\n",
    "print(\"Tuned RF RMSLE:\", rmsle)\n"
   ]
  },
  {
   "cell_type": "code",
   "execution_count": null,
   "id": "ea95c3cd",
   "metadata": {},
   "outputs": [],
   "source": [
    "gbr = GradientBoostingRegressor(random_state=42)\n",
    "gbr.fit(X_train, y_train)\n",
    "rmsle_gbr = mean_squared_log_error(\n",
    "    y_val, np.clip(gbr.predict(X_val), 0, None), squared=False\n",
    ")\n",
    "print(\"GradientBoosting RMSLE:\", rmsle_gbr)\n"
   ]
  },
  {
   "cell_type": "code",
   "execution_count": null,
   "id": "8d232b51",
   "metadata": {},
   "outputs": [],
   "source": [
    "print(\"\\nSummary\")\n",
    "print(f\"- Tuned RandomForest: {rmsle:.4f}\")\n",
    "print(f\"- GradientBoosting : {rmsle_gbr:.4f}\")\n"
   ]
  }
 ],
 "metadata": {
  "language_info": {
   "name": "python"
  }
 },
 "nbformat": 4,
 "nbformat_minor": 5
}
